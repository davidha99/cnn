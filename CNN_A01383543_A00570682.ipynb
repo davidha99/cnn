{
 "cells": [
  {
   "attachments": {},
   "cell_type": "markdown",
   "metadata": {},
   "source": [
    "# Proyecto final (CNN)\n",
    "\n",
    "Omar David Hernández Aguirre  | A01383543  \n",
    "Bernardo García Zermeño       | A00570682  \n",
    "06 de junio de 2023  "
   ]
  },
  {
   "cell_type": "code",
   "execution_count": 8,
   "metadata": {},
   "outputs": [],
   "source": [
    "import torch\n",
    "import torch.nn as nn\n",
    "import torch.optim as optim\n",
    "from torch.utils.data import DataLoader\n",
    "import torchvision\n",
    "from torchvision.transforms import ToTensor\n",
    "import os\n",
    "import pandas as pd\n",
    "import numpy as np"
   ]
  },
  {
   "cell_type": "code",
   "execution_count": 9,
   "metadata": {},
   "outputs": [
    {
     "name": "stdout",
     "output_type": "stream",
     "text": [
      "['Test', 'Test.csv', 'Meta', 'Train', 'Meta.csv', 'Train.csv']\n"
     ]
    }
   ],
   "source": [
    "print(os.listdir('./archive/'))"
   ]
  },
  {
   "cell_type": "code",
   "execution_count": 34,
   "metadata": {},
   "outputs": [],
   "source": [
    "# Reading train and test data from CSVs\n",
    "training_data = pd.read_csv('./archive/Train.csv') \n",
    "test_data = pd.read_csv('./archive/Test.csv')"
   ]
  },
  {
   "cell_type": "code",
   "execution_count": 45,
   "metadata": {},
   "outputs": [
    {
     "name": "stdout",
     "output_type": "stream",
     "text": [
      "tensor([[27., 26.,  5.,  ..., 22., 20., 20.],\n",
      "        [28., 27.,  5.,  ..., 23., 22., 20.],\n",
      "        [29., 26.,  6.,  ..., 24., 21., 20.],\n",
      "        ...,\n",
      "        [58., 62.,  5.,  ..., 53., 57., 42.],\n",
      "        [63., 69.,  5.,  ..., 58., 63., 42.],\n",
      "        [68., 69.,  7.,  ..., 62., 63., 42.]])\n"
     ]
    }
   ],
   "source": [
    "# Transforming train data to tensor\n",
    "tensor_training = training_data.drop(columns=\"Path\")\n",
    "tensor_training = torch.Tensor(tensor_training.values)\n",
    "print(tensor_training)"
   ]
  },
  {
   "cell_type": "code",
   "execution_count": 44,
   "metadata": {},
   "outputs": [
    {
     "name": "stdout",
     "output_type": "stream",
     "text": [
      "tensor([[53., 54.,  6.,  ..., 48., 49., 16.],\n",
      "        [42., 45.,  5.,  ..., 36., 40.,  1.],\n",
      "        [48., 52.,  6.,  ..., 43., 47., 38.],\n",
      "        ...,\n",
      "        [29., 29.,  6.,  ..., 24., 24.,  6.],\n",
      "        [48., 49.,  5.,  ..., 43., 44.,  7.],\n",
      "        [32., 31.,  6.,  ..., 27., 26., 10.]])\n"
     ]
    }
   ],
   "source": [
    "# Transforming test data to tensor\n",
    "tensor_test = test_data.drop(columns=\"Path\")\n",
    "tensor_test = torch.Tensor(tensor_test.values)\n",
    "print(tensor_test)"
   ]
  }
 ],
 "metadata": {
  "kernelspec": {
   "display_name": "deep_learning",
   "language": "python",
   "name": "python3"
  },
  "language_info": {
   "codemirror_mode": {
    "name": "ipython",
    "version": 3
   },
   "file_extension": ".py",
   "mimetype": "text/x-python",
   "name": "python",
   "nbconvert_exporter": "python",
   "pygments_lexer": "ipython3",
   "version": "3.8.16"
  },
  "orig_nbformat": 4
 },
 "nbformat": 4,
 "nbformat_minor": 2
}
